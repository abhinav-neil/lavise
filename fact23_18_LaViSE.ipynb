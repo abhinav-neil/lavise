{
 "cells": [
  {
   "attachments": {},
   "cell_type": "markdown",
   "metadata": {},
   "source": [
    "### Imports"
   ]
  },
  {
   "cell_type": "code",
   "execution_count": 1,
   "metadata": {},
   "outputs": [],
   "source": [
    "import numpy as np\n",
    "import time\n",
    "from tqdm import tqdm\n",
    "import json, pickle\n",
    "import warnings\n",
    "import os, sys\n",
    "import copy\n",
    "import itertools\n",
    "import pandas as pd\n",
    "from collections import defaultdict\n",
    "import matplotlib.pyplot as plt\n",
    "# import torch\n",
    "# import torchvision\n",
    "# from torch.nn.utils.rnn import pad_sequence\n",
    "# import torchvision.transforms as transforms\n",
    "# from torch.utils.data import Dataset\n",
    "\n",
    "warnings.filterwarnings(\"ignore\")   # ignore stupid dataloader warnings"
   ]
  },
  {
   "cell_type": "code",
   "execution_count": 10,
   "metadata": {},
   "outputs": [],
   "source": [
    "# # hyperparameters\n",
    "ROOT_DIR = './data'\n",
    "# # check if GPU is available\n",
    "# device = torch.device('cuda' if torch.cuda.is_available() else 'cpu')\n",
    "# print('Using device:', device)"
   ]
  },
  {
   "attachments": {},
   "cell_type": "markdown",
   "metadata": {},
   "source": [
    "### Load data"
   ]
  },
  {
   "cell_type": "code",
   "execution_count": 5,
   "metadata": {},
   "outputs": [
    {
     "name": "stdout",
     "output_type": "stream",
     "text": [
      "number of samples in the dataset: 108077\n"
     ]
    }
   ],
   "source": [
    "# dataset = VisualGenome(root_dir=ROOT_DIR, transform=None)\n",
    "# print(f'number of samples in the dataset: {len(dataset)}')\n",
    "# # get small subset of the dataset for testing\n",
    "# indices = np.random.randint(0, len(dataset), size=1000)\n",
    "# subset_dataset = torch.utils.data.Subset(dataset, indices)\n",
    "\n",
    "# def collate_fn(batch):\n",
    "#     return zip(*batch)\n",
    "\n",
    "# dataloader = torch.utils.data.DataLoader(dataset, batch_size=BATCH_SIZE, shuffle=False, num_workers=NUM_WORKERS, collate_fn=None)\n",
    "# subset_dataloader = torch.utils.data.DataLoader(subset_dataset, batch_size=BATCH_SIZE, shuffle=False, num_workers=NUM_WORKERS, collate_fn=None)"
   ]
  },
  {
   "attachments": {},
   "cell_type": "markdown",
   "metadata": {},
   "source": [
    "### Preprocessing (for VG)"
   ]
  },
  {
   "cell_type": "code",
   "execution_count": 16,
   "metadata": {},
   "outputs": [
    {
     "name": "stdout",
     "output_type": "stream",
     "text": [
      "size of all_objs in bytes: 901144\n"
     ]
    }
   ],
   "source": [
    "# read original objects file\n",
    "obj_path = f'{ROOT_DIR}/vg/vg_objects.json'\n",
    "with open(obj_path) as f:\n",
    "    all_objs = json.load(f)\n",
    "print(f'size of all_objs in bytes: {sys.getsizeof(all_objs)}')"
   ]
  },
  {
   "attachments": {},
   "cell_type": "markdown",
   "metadata": {},
   "source": [
    "#### Replace aliases"
   ]
  },
  {
   "cell_type": "code",
   "execution_count": 17,
   "metadata": {},
   "outputs": [
    {
     "name": "stdout",
     "output_type": "stream",
     "text": [
      "number of aliases: 3435\n",
      "first 5 aliases: [['called a forest', 'is called a forest'], ['saver', 'savers'], ['bookend', 'bookends'], ['yellow', 'is yellow', 'yellows'], ['gladiola', 'gladiolas']]\n"
     ]
    }
   ],
   "source": [
    "# read aliases from file where each line is a list of aliases\n",
    "with open(f'{ROOT_DIR}/vg/vg_object_aliases.txt') as f:\n",
    "    aliases = f.readlines()\n",
    "aliases = [a.strip().split(',') for a in aliases]\n",
    "print(f'number of aliases: {len(aliases)}')\n",
    "print(f'first 5 aliases: {aliases[:5]}')"
   ]
  },
  {
   "cell_type": "code",
   "execution_count": 22,
   "metadata": {},
   "outputs": [
    {
     "name": "stderr",
     "output_type": "stream",
     "text": [
      "108077it [18:02, 99.81it/s] \n"
     ]
    }
   ],
   "source": [
    "# replace aliases with the first alias\n",
    "all_objs_new = copy.deepcopy(all_objs)\n",
    "for i, obj in tqdm(enumerate(all_objs_new)):\n",
    "    for j, object in enumerate(obj['objects']):\n",
    "        for a in aliases:\n",
    "            if object['names'][0] in a[1:]:\n",
    "                # print(f'replacing {object[\"names\"][0]} with {a[0]} in {obj[\"image_id\"]}')\n",
    "                all_objs_new[i]['objects'][j]['names'][0] = a[0]\n",
    "                break"
   ]
  },
  {
   "cell_type": "code",
   "execution_count": 23,
   "metadata": {},
   "outputs": [
    {
     "name": "stderr",
     "output_type": "stream",
     "text": [
      "1000it [00:07, 127.95it/s]\n",
      "1000it [00:08, 123.30it/s]"
     ]
    },
    {
     "name": "stdout",
     "output_type": "stream",
     "text": [
      "number of objects with aliases: 1744\n",
      "top 5 most common aliases: [('leaf', 131), ('window', 103), ('tree', 84), ('pant', 73), ('flower', 50)]\n",
      "number of objects with aliases after replacement: 0\n"
     ]
    },
    {
     "name": "stderr",
     "output_type": "stream",
     "text": [
      "\n"
     ]
    }
   ],
   "source": [
    "# count number of objects with aliases\n",
    "alias_counts = {'old': defaultdict(lambda: 0), 'new': defaultdict(lambda: 0)}\n",
    "for i, obj in tqdm(enumerate(all_objs[:1000])):\n",
    "    for j, object in enumerate(obj['objects']):\n",
    "        for a in aliases:\n",
    "            if object['names'][0] in a[1:]:\n",
    "                # print(f'found alias {a[0]} for {object[\"names\"][0]} in {obj[\"image_id\"]}')\n",
    "                alias_counts['old'][a[0]] += 1\n",
    "                break\n",
    "for i, obj in tqdm(enumerate(all_objs_new[:1000])):\n",
    "    for j, object in enumerate(obj['objects']):\n",
    "        for a in aliases:\n",
    "            if object['names'][0] in a[1:]:\n",
    "                # print(f'found alias {a[0]} for {object[\"names\"][0]} i')\n",
    "                alias_counts['new'][a[0]] += 1\n",
    "                break\n",
    "print(f'number of objects with aliases: {sum(alias_counts[\"old\"].values())}')\n",
    "print(f'top 5 most common aliases: {sorted(alias_counts[\"old\"].items(), key=lambda x: x[1], reverse=True)[:5]}')\n",
    "print(f'number of objects with aliases after replacement: {sum(alias_counts[\"new\"].values())}')"
   ]
  },
  {
   "attachments": {},
   "cell_type": "markdown",
   "metadata": {},
   "source": [
    "#### Remove rare entities"
   ]
  },
  {
   "cell_type": "code",
   "execution_count": 24,
   "metadata": {},
   "outputs": [],
   "source": [
    "# remove objs with no objects in them\n",
    "all_objs_new = [obj for obj in all_objs_new if len(obj['objects']) > 0]\n",
    "obj_freqs = defaultdict(lambda: 0)\n",
    "for idx, obj in tqdm(enumerate(all_objs_new)):\n",
    "    for name in set([object['names'][0] for object in obj['objects']]):\n",
    "        obj_freqs[name] += 1\n",
    "print(f'\\ntotal number of objects: {len(all_objs)}')\n",
    "print('\\ntotal number of names: {}'.format(len(obj_freqs)))\n",
    "print(f'# objects with freq > 100: {len([k for k, v in obj_freqs.items() if v > 100])}')\n",
    "# remove objects with freq < 100\n",
    "for i, obj in tqdm(enumerate(all_objs_new)):\n",
    "    all_objs_new[i]['objects'] = [object for object in obj['objects'] if obj_freqs[object['names'][0]] >= 100]\n",
    "# count total number of objects\n",
    "print(f'total number of objects: {len(all_objs_new)}')\n",
    "obj_names = set([name for obj in all_objs_new for name in [object['names'][0] for object in obj['objects']]])\n",
    "print(f'first 5 object names: {list(obj_names)[:5]}')\n",
    "print(f'# object categories: {len(obj_names)}')"
   ]
  },
  {
   "cell_type": "code",
   "execution_count": 34,
   "metadata": {},
   "outputs": [],
   "source": [
    "# save new objects file\n",
    "with open(f'{ROOT_DIR}/vg/vg_objects_clean.json', 'w') as f:\n",
    "    json.dump(all_objs_new, f)"
   ]
  },
  {
   "cell_type": "code",
   "execution_count": 15,
   "metadata": {},
   "outputs": [
    {
     "name": "stdout",
     "output_type": "stream",
     "text": [
      "# object categories: 1443\n"
     ]
    }
   ],
   "source": [
    "# load new objects file\n",
    "with open(f'{ROOT_DIR}/vg/vg_objects_clean.json', 'r') as f:\n",
    "    all_objs = json.load(f)\n",
    "obj_names = set([name for obj in all_objs for name in [object['names'][0] for object in obj['objects']]])\n",
    "print(f'# object categories: {len(obj_names)}')"
   ]
  },
  {
   "attachments": {},
   "cell_type": "markdown",
   "metadata": {},
   "source": [
    "### Exp 2: plot recall values for different anno rates "
   ]
  },
  {
   "cell_type": "code",
   "execution_count": 13,
   "metadata": {},
   "outputs": [
    {
     "data": {
      "text/plain": [
       "[]"
      ]
     },
     "execution_count": 13,
     "metadata": {},
     "output_type": "execute_result"
    },
    {
     "data": {
      "image/png": "[encoded data removed]",
      "text/plain": [
       "<Figure size 1000x500 with 1 Axes>"
      ]
     },
     "metadata": {},
     "output_type": "display_data"
    }
   ],
   "source": [
    "anno_rates = [0.1, 0.3, 0.5, 0.7]\n",
    "recalls = ['top-5', 'top-10', 'top-20']\n",
    "recalls_df = pd.DataFrame(columns=['% unseen concepts discovered'] + recalls, index=anno_rates)\n",
    "recalls_df.loc[0.1, :] = [0.236, 0.005, 0.012, 0.026]\n",
    "recalls_df.loc[0.3, :] = [0.314, 0.02, 0.036, 0.06]\n",
    "recalls_df.loc[0.5, :] = [0.328, 0.026, 0.047, 0.076]\n",
    "recalls_df.loc[0.7, :] = [0.3, 0.023, 0.041, 0.067]\n",
    "# plot\n",
    "ax = recalls_df.iloc[:, 1:].plot(figsize=(10, 5), title='', xlabel='% of annotated concepts seen during training', ylabel='% recall (unseen)')\n",
    "ax.set_xticks(anno_rates)\n",
    "ax.set_xticklabels([f'{int(100 * x)}' for x in ax.get_xticks()])\n",
    "ax.set_yticklabels([f'{int(100 * x)}' for x in ax.get_yticks()])\n",
    "ax.plot()"
   ]
  },
  {
   "cell_type": "code",
   "execution_count": 14,
   "metadata": {},
   "outputs": [
    {
     "name": "stdout",
     "output_type": "stream",
     "text": [
      "\\begin{tabular}{lllll}\n",
      "\\toprule\n",
      "{} & \\% unseen concepts discovered &  top-5 & top-10 & top-20 \\\\\n",
      "\\midrule\n",
      "0.1 &                        0.236 &  0.005 &  0.012 &  0.026 \\\\\n",
      "0.3 &                        0.314 &   0.02 &  0.036 &   0.06 \\\\\n",
      "0.5 &                        0.328 &  0.026 &  0.047 &  0.076 \\\\\n",
      "0.7 &                          0.3 &  0.023 &  0.041 &  0.067 \\\\\n",
      "\\bottomrule\n",
      "\\end{tabular}\n",
      "\n"
     ]
    }
   ],
   "source": [
    "# save dataframe to latex\n",
    "print(recalls_df.to_latex())"
   ]
  }
 ],
 "metadata": {
  "kernelspec": {
   "display_name": "base",
   "language": "python",
   "name": "python3"
  },
  "language_info": {
   "codemirror_mode": {
    "name": "ipython",
    "version": 3
   },
   "file_extension": ".py",
   "mimetype": "text/x-python",
   "name": "python",
   "nbconvert_exporter": "python",
   "pygments_lexer": "ipython3",
   "version": "3.8.13 (default, Mar 28 2022, 06:16:26) \n[Clang 12.0.0 ]"
  },
  "orig_nbformat": 4,
  "vscode": {
   "interpreter": {
    "hash": "8c7c1837f471eb80fcd7ee5f2dfac805925bdbbffaa38880f8c83afac8591e45"
   }
  }
 },
 "nbformat": 4,
 "nbformat_minor": 2
}
